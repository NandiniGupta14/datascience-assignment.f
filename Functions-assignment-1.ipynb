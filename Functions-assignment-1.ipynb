{
 "cells": [
  {
   "cell_type": "code",
   "execution_count": 1,
   "id": "48df2edb-ecc9-4c3b-912b-ef4b6b131cbc",
   "metadata": {},
   "outputs": [],
   "source": [
    "# Q1.Which keyword is used to create a function ? create a function to return a list of odd numbers in the range of 1 to 25.\n",
    "# Answer - The keyword used to create a function is ‘ def ’.\n",
    "# Here’s a function that return a list of odd numbers in the range of 1 to 25,\n",
    "\n",
    "def find_odd_numbers():\n",
    "    l = range(1,26)\n",
    "    l1 = [ ]\n",
    "    for i in l :\n",
    "        if i%2 != 0 :\n",
    "            l1.append(i)\n",
    "    return l1\n",
    "\n",
    "\n"
   ]
  },
  {
   "cell_type": "code",
   "execution_count": 2,
   "id": "6397d911-d2b8-4263-8754-5beae00761cc",
   "metadata": {},
   "outputs": [
    {
     "data": {
      "text/plain": [
       "[1, 3, 5, 7, 9, 11, 13, 15, 17, 19, 21, 23, 25]"
      ]
     },
     "execution_count": 2,
     "metadata": {},
     "output_type": "execute_result"
    }
   ],
   "source": [
    "find_odd_numbers()"
   ]
  },
  {
   "cell_type": "code",
   "execution_count": 4,
   "id": "05bb03dd-e81c-4a5b-88de-9cd9005a5e0a",
   "metadata": {},
   "outputs": [],
   "source": [
    "# Q2.Why *args and **kwargs is used in some functions? Create a function each for *args and **kwargs to demonstrate their use.\n",
    "\n",
    "# Answer - ‘ *args ’ and ‘ **kwargs’ are special syntax in python used to pass a variable number of arguments to a function.\n",
    " \n",
    "'''*args -  If we want to pass multiple data then we use ‘ *args ’, in which ( * ) asterisk is a convention symbol which is used to pass multiple data,\n",
    "or we can also use another name in place of args.'''\n",
    " # function \n",
    "def test1(*args):\n",
    "    return args\n"
   ]
  },
  {
   "cell_type": "code",
   "execution_count": 5,
   "id": "b9c91f44-2191-489f-bba6-cb3c42b10a89",
   "metadata": {},
   "outputs": [
    {
     "data": {
      "text/plain": [
       "(1, 2, 3, 4, 'data science', 'technology', True)"
      ]
     },
     "execution_count": 5,
     "metadata": {},
     "output_type": "execute_result"
    }
   ],
   "source": [
    "test1(1,2,3,4,\"data science\" ,\"technology\",True)"
   ]
  },
  {
   "cell_type": "code",
   "execution_count": 6,
   "id": "3b942466-8ca2-4f60-82b6-24d7d3dc681a",
   "metadata": {},
   "outputs": [],
   "source": [
    "'''**Kwargs - **kwargs allows us to pass a variable number of keyword arguments to a python function. We use (**) double-asterisk before the parameter\n",
    "name to denote this type of argument. It is in a dictionary format.'''\n",
    "# Function\n",
    "def test2(**Kwargs):\n",
    "    return Kwargs"
   ]
  },
  {
   "cell_type": "code",
   "execution_count": 10,
   "id": "9608801d-3b68-4626-b2e5-1a02b7c35241",
   "metadata": {},
   "outputs": [
    {
     "data": {
      "text/plain": [
       "{'a': [1, 2, 3, 4], 'E_Mail': 'abc@gmail.com', 'b': True}"
      ]
     },
     "execution_count": 10,
     "metadata": {},
     "output_type": "execute_result"
    }
   ],
   "source": [
    "test2(a = [1,2,3,4] ,E_Mail = \"abc@gmail.com\",b = True)"
   ]
  },
  {
   "cell_type": "code",
   "execution_count": 13,
   "id": "dffa4962-9e05-411a-bb76-f556ba0743d9",
   "metadata": {},
   "outputs": [
    {
     "name": "stdout",
     "output_type": "stream",
     "text": [
      "2\n",
      "4\n",
      "6\n",
      "8\n",
      "10\n"
     ]
    }
   ],
   "source": [
    "# Q3.What is an iterator in python? Name the method used to initialize the iterator object and the method used for iteration. Use these methods to \n",
    "#    print the first five elements of the given list [2, 4, 6, 8, 10, 12, 14,16, 18, 20].\n",
    "'''Answer. iterator - iterators have the __next__ () method, which returns the next item of the object. It is an object that represents a sequence \n",
    "of data, allowing you to iterate (loop) over its element one at a time.\n",
    "To initialize an iterator object, we can use the ‘ iter()’ method , and for iteration, we can use the  ‘ next() ’ method.'''\n",
    "\n",
    "l = [2,4,6,8,10,12,14,16,18,20]\n",
    "l1 = iter(l)\n",
    "for i in l:\n",
    "    if i <= 10 :\n",
    "        element = next(l1)\n",
    "        print(element)\n",
    "\n"
   ]
  },
  {
   "cell_type": "code",
   "execution_count": 1,
   "id": "b5cb5610-83ad-4281-bab6-c69b2810e667",
   "metadata": {},
   "outputs": [
    {
     "name": "stdout",
     "output_type": "stream",
     "text": [
      "5\n",
      "4\n",
      "3\n",
      "2\n",
      "1\n"
     ]
    }
   ],
   "source": [
    "# Q4. What is a generator function in python? Why yield keyword is used? Give an example of a generator function.\n",
    "\n",
    "'''Answer. Generator function -  It is a special type of function that allows you to iterate over a potentially large sequence of items without\n",
    "generating and storing them all in memory at once. It also reduces memory consumption.\n",
    "\n",
    "Yield keyword- Instead of using the ‘return’ keyword to produce a single result, generator functions use the ‘ yield ’ keyword to yield values\n",
    "one by one, creating an iterator.'''\n",
    "# example\n",
    "def countdown(n):\n",
    "    while n > 0:\n",
    "        yield n\n",
    "        n -= 1\n",
    "for num in countdown(5):\n",
    "    print(num)\n",
    "\n"
   ]
  },
  {
   "cell_type": "code",
   "execution_count": 2,
   "id": "5333328b-2174-4a5c-920c-ab45f838de63",
   "metadata": {},
   "outputs": [
    {
     "name": "stdout",
     "output_type": "stream",
     "text": [
      "2\n",
      "3\n",
      "5\n",
      "7\n",
      "11\n",
      "13\n",
      "17\n",
      "19\n",
      "23\n",
      "29\n",
      "31\n",
      "37\n",
      "41\n",
      "43\n",
      "47\n",
      "53\n",
      "59\n",
      "61\n",
      "67\n",
      "71\n"
     ]
    }
   ],
   "source": [
    "#Q5. Create a generator function for prime numbers less than 1000. Use the next() method to print the first 20 prime numbers.\n",
    "# Answer\n",
    "def is_prime(num):\n",
    "    # check if the number is prime or not\n",
    "    if num < 2:\n",
    "        return False \n",
    "    for i in range (2, int(num**0.5) + 1):\n",
    "        if num % i == 0 :\n",
    "            return False \n",
    "    return True\n",
    "\n",
    "# function for prime numbers less than 1000\n",
    "def generate_prime():\n",
    "    \n",
    "    num = 2\n",
    "    while num < 1000:\n",
    "        if is_prime (num):\n",
    "            yield(num)\n",
    "        num += 1\n",
    "\n",
    "# print the first 20 prime numbers        \n",
    "prime_generator = generate_prime()\n",
    "for _ in range(20):\n",
    "        print(next(prime_generator))\n",
    "    "
   ]
  },
  {
   "cell_type": "code",
   "execution_count": 9,
   "id": "8383ffbd-ffca-4797-921e-5bb438a36f76",
   "metadata": {},
   "outputs": [
    {
     "name": "stdout",
     "output_type": "stream",
     "text": [
      "0\n",
      "1\n",
      "1\n",
      "2\n",
      "3\n",
      "5\n",
      "8\n",
      "13\n",
      "21\n",
      "34\n"
     ]
    }
   ],
   "source": [
    "#Q6. Write a python program to print the first 10 Fibonacci numbers using a while loop.\n",
    "# Answer\n",
    "def test_fib():\n",
    "    a,b = 0,1\n",
    "    while True:\n",
    "        yield a\n",
    "        a,b = b , a+b\n",
    "    \n",
    "fib = test_fib()\n",
    "for i in range(10):\n",
    "    print(next(fib))\n"
   ]
  },
  {
   "cell_type": "code",
   "execution_count": 10,
   "id": "dc615207-acf5-4e60-8274-e8d73d4cfc14",
   "metadata": {},
   "outputs": [],
   "source": [
    "#Q7. Write a List Comprehension to iterate through the given string: ‘pwskills’.\n",
    "#Expected output: ['p', 'w', 's', 'k', 'i', 'l', 'l', 's'].\n",
    "# Answer\n",
    "s = \"pwskills\"\n",
    "l = [i for i in s]\n"
   ]
  },
  {
   "cell_type": "code",
   "execution_count": 11,
   "id": "d4283db7-dd93-4ea3-a1ed-d019c02e4671",
   "metadata": {},
   "outputs": [
    {
     "data": {
      "text/plain": [
       "['p', 'w', 's', 'k', 'i', 'l', 'l', 's']"
      ]
     },
     "execution_count": 11,
     "metadata": {},
     "output_type": "execute_result"
    }
   ],
   "source": [
    "l"
   ]
  },
  {
   "cell_type": "code",
   "execution_count": 12,
   "id": "86b39d76-35d8-4685-b960-55b4442d6606",
   "metadata": {},
   "outputs": [
    {
     "name": "stdin",
     "output_type": "stream",
     "text": [
      "enter number : 789\n"
     ]
    },
    {
     "name": "stdout",
     "output_type": "stream",
     "text": [
      "789 is not a palindrome number \n"
     ]
    }
   ],
   "source": [
    "#Q8. Write a python program to check whether a given number is Palindrome or not using a while loop. \n",
    "#Answer. Here’s a python program to check if a given number is palindrome or not.\n",
    "\n",
    "number = int(input(\"enter number :\"))\n",
    "original_number = number \n",
    "reverse_number = 0\n",
    "\n",
    "while (number > 0):\n",
    "    reverse_number = (reverse_number * 10) + number % 10\n",
    "    number = number // 10\n",
    "    \n",
    "if original_number == reverse_number:\n",
    "    print(original_number,\"is a palindrome number\")\n",
    "else:\n",
    "    print(original_number ,\"is not a palindrome number \")\n"
   ]
  },
  {
   "cell_type": "code",
   "execution_count": 13,
   "id": "d38017ec-efe4-4892-bff9-47ceed26cdd9",
   "metadata": {},
   "outputs": [
    {
     "name": "stdout",
     "output_type": "stream",
     "text": [
      "[1, 3, 5, 7, 9, 11, 13, 15, 17, 19, 21, 23, 25, 27, 29, 31, 33, 35, 37, 39, 41, 43, 45, 47, 49, 51, 53, 55, 57, 59, 61, 63, 65, 67, 69, 71, 73, 75, 77, 79, 81, 83, 85, 87, 89, 91, 93, 95, 97, 99]\n"
     ]
    }
   ],
   "source": [
    "#Q9. Write a code to print odd numbers from 1 to 100 using list comprehension.\n",
    "# Answer\n",
    "numbers = range(1,101)\n",
    "\n",
    "#use list comprehension to filter out odd numbers\n",
    "odd_numbers = [i for i in numbers if i % 2 != 0]\n",
    "\n",
    "print(odd_numbers)\n"
   ]
  },
  {
   "cell_type": "code",
   "execution_count": null,
   "id": "c43bf806-0125-4665-8bad-19e0ded46a76",
   "metadata": {},
   "outputs": [],
   "source": []
  }
 ],
 "metadata": {
  "kernelspec": {
   "display_name": "Python 3 (ipykernel)",
   "language": "python",
   "name": "python3"
  },
  "language_info": {
   "codemirror_mode": {
    "name": "ipython",
    "version": 3
   },
   "file_extension": ".py",
   "mimetype": "text/x-python",
   "name": "python",
   "nbconvert_exporter": "python",
   "pygments_lexer": "ipython3",
   "version": "3.10.8"
  }
 },
 "nbformat": 4,
 "nbformat_minor": 5
}
